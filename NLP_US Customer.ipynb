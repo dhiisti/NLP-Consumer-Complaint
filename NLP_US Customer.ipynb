{
  "nbformat": 4,
  "nbformat_minor": 0,
  "metadata": {
    "colab": {
      "name": "nlp_submission",
      "provenance": [],
      "collapsed_sections": []
    },
    "kernelspec": {
      "name": "python3",
      "display_name": "Python 3"
    },
    "accelerator": "GPU"
  },
  "cells": [
    {
      "cell_type": "code",
      "metadata": {
        "id": "-bcnWUhG3c7j"
      },
      "source": [
        "from keras.preprocessing.text import Tokenizer\n",
        "from keras.preprocessing.sequence import pad_sequences\n",
        "from sklearn.model_selection import train_test_split\n",
        "import re\n",
        "import numpy as np \n",
        "import pandas as pd\n",
        "from nltk.corpus import stopwords\n",
        "from nltk import word_tokenize"
      ],
      "execution_count": 1,
      "outputs": []
    },
    {
      "cell_type": "markdown",
      "metadata": {
        "id": "aOKh8fPBdejE"
      },
      "source": [
        "Melihat data"
      ]
    },
    {
      "cell_type": "code",
      "metadata": {
        "id": "P0KPMK8i4bf5",
        "colab": {
          "base_uri": "https://localhost:8080/"
        },
        "outputId": "00d5bb89-01f1-43ce-c6e4-53c82213463f"
      },
      "source": [
        "df = pd.read_csv('consumer_complaints.csv', usecols=('product', 'consumer_complaint_narrative'))\n",
        "df.info()"
      ],
      "execution_count": 2,
      "outputs": [
        {
          "output_type": "stream",
          "text": [
            "<class 'pandas.core.frame.DataFrame'>\n",
            "RangeIndex: 555957 entries, 0 to 555956\n",
            "Data columns (total 2 columns):\n",
            " #   Column                        Non-Null Count   Dtype \n",
            "---  ------                        --------------   ----- \n",
            " 0   product                       555957 non-null  object\n",
            " 1   consumer_complaint_narrative  66806 non-null   object\n",
            "dtypes: object(2)\n",
            "memory usage: 8.5+ MB\n"
          ],
          "name": "stdout"
        },
        {
          "output_type": "stream",
          "text": [
            "/usr/local/lib/python3.7/dist-packages/IPython/core/interactiveshell.py:2718: DtypeWarning: Columns (5) have mixed types.Specify dtype option on import or set low_memory=False.\n",
            "  interactivity=interactivity, compiler=compiler, result=result)\n"
          ],
          "name": "stderr"
        }
      ]
    },
    {
      "cell_type": "code",
      "metadata": {
        "id": "J3hSLv1hZCl5",
        "colab": {
          "base_uri": "https://localhost:8080/",
          "height": 221
        },
        "outputId": "d6f27fe2-53f9-40da-de21-bc6e692fe8cd"
      },
      "source": [
        "print(len(df))\n",
        "df.head()"
      ],
      "execution_count": 3,
      "outputs": [
        {
          "output_type": "stream",
          "text": [
            "555957\n"
          ],
          "name": "stdout"
        },
        {
          "output_type": "execute_result",
          "data": {
            "text/html": [
              "<div>\n",
              "<style scoped>\n",
              "    .dataframe tbody tr th:only-of-type {\n",
              "        vertical-align: middle;\n",
              "    }\n",
              "\n",
              "    .dataframe tbody tr th {\n",
              "        vertical-align: top;\n",
              "    }\n",
              "\n",
              "    .dataframe thead th {\n",
              "        text-align: right;\n",
              "    }\n",
              "</style>\n",
              "<table border=\"1\" class=\"dataframe\">\n",
              "  <thead>\n",
              "    <tr style=\"text-align: right;\">\n",
              "      <th></th>\n",
              "      <th>product</th>\n",
              "      <th>consumer_complaint_narrative</th>\n",
              "    </tr>\n",
              "  </thead>\n",
              "  <tbody>\n",
              "    <tr>\n",
              "      <th>0</th>\n",
              "      <td>Mortgage</td>\n",
              "      <td>NaN</td>\n",
              "    </tr>\n",
              "    <tr>\n",
              "      <th>1</th>\n",
              "      <td>Mortgage</td>\n",
              "      <td>NaN</td>\n",
              "    </tr>\n",
              "    <tr>\n",
              "      <th>2</th>\n",
              "      <td>Credit reporting</td>\n",
              "      <td>NaN</td>\n",
              "    </tr>\n",
              "    <tr>\n",
              "      <th>3</th>\n",
              "      <td>Student loan</td>\n",
              "      <td>NaN</td>\n",
              "    </tr>\n",
              "    <tr>\n",
              "      <th>4</th>\n",
              "      <td>Debt collection</td>\n",
              "      <td>NaN</td>\n",
              "    </tr>\n",
              "  </tbody>\n",
              "</table>\n",
              "</div>"
            ],
            "text/plain": [
              "            product consumer_complaint_narrative\n",
              "0          Mortgage                          NaN\n",
              "1          Mortgage                          NaN\n",
              "2  Credit reporting                          NaN\n",
              "3      Student loan                          NaN\n",
              "4   Debt collection                          NaN"
            ]
          },
          "metadata": {
            "tags": []
          },
          "execution_count": 3
        }
      ]
    },
    {
      "cell_type": "markdown",
      "metadata": {
        "id": "46YQlG3Odkan"
      },
      "source": [
        "Menghapus kolom yang tidak memiliki nilai"
      ]
    },
    {
      "cell_type": "code",
      "metadata": {
        "id": "RQjN7YJIZK4V",
        "colab": {
          "base_uri": "https://localhost:8080/",
          "height": 221
        },
        "outputId": "1524d4a0-4aeb-4a2f-da08-0d10ec406da4"
      },
      "source": [
        "df = df.dropna()\n",
        "print(len(df))\n",
        "df.head()"
      ],
      "execution_count": 4,
      "outputs": [
        {
          "output_type": "stream",
          "text": [
            "66806\n"
          ],
          "name": "stdout"
        },
        {
          "output_type": "execute_result",
          "data": {
            "text/html": [
              "<div>\n",
              "<style scoped>\n",
              "    .dataframe tbody tr th:only-of-type {\n",
              "        vertical-align: middle;\n",
              "    }\n",
              "\n",
              "    .dataframe tbody tr th {\n",
              "        vertical-align: top;\n",
              "    }\n",
              "\n",
              "    .dataframe thead th {\n",
              "        text-align: right;\n",
              "    }\n",
              "</style>\n",
              "<table border=\"1\" class=\"dataframe\">\n",
              "  <thead>\n",
              "    <tr style=\"text-align: right;\">\n",
              "      <th></th>\n",
              "      <th>product</th>\n",
              "      <th>consumer_complaint_narrative</th>\n",
              "    </tr>\n",
              "  </thead>\n",
              "  <tbody>\n",
              "    <tr>\n",
              "      <th>190126</th>\n",
              "      <td>Debt collection</td>\n",
              "      <td>XXXX has claimed I owe them {$27.00} for XXXX ...</td>\n",
              "    </tr>\n",
              "    <tr>\n",
              "      <th>190135</th>\n",
              "      <td>Consumer Loan</td>\n",
              "      <td>Due to inconsistencies in the amount owed that...</td>\n",
              "    </tr>\n",
              "    <tr>\n",
              "      <th>190155</th>\n",
              "      <td>Mortgage</td>\n",
              "      <td>In XX/XX/XXXX my wages that I earned at my job...</td>\n",
              "    </tr>\n",
              "    <tr>\n",
              "      <th>190207</th>\n",
              "      <td>Mortgage</td>\n",
              "      <td>I have an open and current mortgage with Chase...</td>\n",
              "    </tr>\n",
              "    <tr>\n",
              "      <th>190208</th>\n",
              "      <td>Mortgage</td>\n",
              "      <td>XXXX was submitted XX/XX/XXXX. At the time I s...</td>\n",
              "    </tr>\n",
              "  </tbody>\n",
              "</table>\n",
              "</div>"
            ],
            "text/plain": [
              "                product                       consumer_complaint_narrative\n",
              "190126  Debt collection  XXXX has claimed I owe them {$27.00} for XXXX ...\n",
              "190135    Consumer Loan  Due to inconsistencies in the amount owed that...\n",
              "190155         Mortgage  In XX/XX/XXXX my wages that I earned at my job...\n",
              "190207         Mortgage  I have an open and current mortgage with Chase...\n",
              "190208         Mortgage  XXXX was submitted XX/XX/XXXX. At the time I s..."
            ]
          },
          "metadata": {
            "tags": []
          },
          "execution_count": 4
        }
      ]
    },
    {
      "cell_type": "code",
      "metadata": {
        "id": "xl6_J7Sk_all",
        "colab": {
          "base_uri": "https://localhost:8080/"
        },
        "outputId": "d2662bf1-9c8e-48d5-cd94-604e66135938"
      },
      "source": [
        "print(df['product'].value_counts())"
      ],
      "execution_count": 5,
      "outputs": [
        {
          "output_type": "stream",
          "text": [
            "Debt collection            17552\n",
            "Mortgage                   14919\n",
            "Credit reporting           12526\n",
            "Credit card                 7929\n",
            "Bank account or service     5711\n",
            "Consumer Loan               3678\n",
            "Student loan                2128\n",
            "Prepaid card                 861\n",
            "Payday loan                  726\n",
            "Money transfers              666\n",
            "Other financial service      110\n",
            "Name: product, dtype: int64\n"
          ],
          "name": "stdout"
        }
      ]
    },
    {
      "cell_type": "markdown",
      "metadata": {
        "id": "oW34gxT-dp6B"
      },
      "source": [
        "Melihat data komplain"
      ]
    },
    {
      "cell_type": "code",
      "metadata": {
        "id": "pUXHAPkbaPkA",
        "colab": {
          "base_uri": "https://localhost:8080/"
        },
        "outputId": "2240bf3c-cc4b-4d2f-cf1d-5a0b7ba43b45"
      },
      "source": [
        "texts = df['consumer_complaint_narrative'].values\n",
        "print(texts[:1])"
      ],
      "execution_count": 6,
      "outputs": [
        {
          "output_type": "stream",
          "text": [
            "['XXXX has claimed I owe them {$27.00} for XXXX years despite the PROOF of PAYMENT I sent them : canceled check and their ownPAID INVOICE for {$27.00}! \\nThey continue to insist I owe them and collection agencies are after me. \\nHow can I stop this harassment for a bill I already paid four years ago? \\n']\n"
          ],
          "name": "stdout"
        }
      ]
    },
    {
      "cell_type": "markdown",
      "metadata": {
        "id": "kRvArKvmds8p"
      },
      "source": [
        "Membersihkan data"
      ]
    },
    {
      "cell_type": "code",
      "metadata": {
        "id": "HH7R7GcDAcTu",
        "colab": {
          "base_uri": "https://localhost:8080/"
        },
        "outputId": "35d5322d-e82a-49d0-fed0-f7c33c7fbb57"
      },
      "source": [
        "import nltk\n",
        "nltk.download('stopwords')\n",
        "df = df.reset_index(drop=True)\n",
        "replace_space = re.compile('[/(){}\\[\\]\\|@,;]')\n",
        "remove_char = re.compile('[^0-9a-z #+_]')\n",
        "STOPWORDS = set(stopwords.words('english'))\n",
        "\n",
        "def cleanin_text(text):\n",
        "    text = text.lower() #mengubah ke huruf kecil\n",
        "    text = replace_space.sub(' ', text) #mengganti simbol dengan space.\n",
        "    text = remove_char.sub('', text) #menghapus simbol. \n",
        "    text = text.replace('x', '')\n",
        "    text = ' '.join(word for word in text.split() if word not in STOPWORDS) #menghapus stopwords\n",
        "    return text\n",
        "\n",
        "df['consumer_complaint_narrative'] = df['consumer_complaint_narrative'].apply(cleaning_text)"
      ],
      "execution_count": 8,
      "outputs": [
        {
          "output_type": "stream",
          "text": [
            "[nltk_data] Downloading package stopwords to /root/nltk_data...\n",
            "[nltk_data]   Unzipping corpora/stopwords.zip.\n"
          ],
          "name": "stdout"
        }
      ]
    },
    {
      "cell_type": "markdown",
      "metadata": {
        "id": "DbG6v11rf-38"
      },
      "source": [
        "Data yang sudah dibersihkan"
      ]
    },
    {
      "cell_type": "code",
      "metadata": {
        "id": "mw8yyQk9bPmH",
        "colab": {
          "base_uri": "https://localhost:8080/"
        },
        "outputId": "eb15560b-0c4e-4ed3-f576-aadabe1e0ca0"
      },
      "source": [
        "texts = df['consumer_complaint_narrative'].apply(clean_text).values\n",
        "print(texts[:1])"
      ],
      "execution_count": 9,
      "outputs": [
        {
          "output_type": "stream",
          "text": [
            "['claimed owe 2700 years despite proof payment sent canceled check ownpaid invoice 2700 continue insist owe collection agencies stop harassment bill already paid four years ago']\n"
          ],
          "name": "stdout"
        }
      ]
    },
    {
      "cell_type": "code",
      "metadata": {
        "id": "0yM509W-QH5e"
      },
      "source": [
        "narrative = df['consumer_complaint_narrative'].values\n",
        "label = Y = pd.get_dummies(df[\"product\"]).values"
      ],
      "execution_count": 10,
      "outputs": []
    },
    {
      "cell_type": "markdown",
      "metadata": {
        "id": "1KFentm7gLc2"
      },
      "source": [
        "Membagi data menjadi training dan test set"
      ]
    },
    {
      "cell_type": "code",
      "metadata": {
        "id": "PdN4_tPtQam7",
        "colab": {
          "base_uri": "https://localhost:8080/"
        },
        "outputId": "86deea7f-d524-4e46-efe0-9059c2dae658"
      },
      "source": [
        "narrative_train, narrative_test, label_train, label_test = train_test_split(narrative, label, test_size=0.2, random_state = 25)\n",
        "print(len(narrative_train))\n",
        "print(len(narrative_test))"
      ],
      "execution_count": 11,
      "outputs": [
        {
          "output_type": "stream",
          "text": [
            "53444\n",
            "13362\n"
          ],
          "name": "stdout"
        }
      ]
    },
    {
      "cell_type": "markdown",
      "metadata": {
        "id": "ufu3nT-AVJeE"
      },
      "source": [
        "Tokenizer text"
      ]
    },
    {
      "cell_type": "code",
      "metadata": {
        "id": "iwPkrn7VBZu8"
      },
      "source": [
        "tokenizer = Tokenizer(num_words=5000, oov_token='<OOV>', filters='!\"#$%&()*+,-./:;<=>?@[\\]^_`{|}~', lower=True)\n",
        "tokenizer.fit_on_texts(narrative_train)\n",
        "\n",
        "sequences_train = tokenizer.texts_to_sequences(narrative_train)\n",
        "sequences_test = tokenizer.texts_to_sequences(narrative_test)\n",
        " \n",
        "padded_train = pad_sequences(sequences_train, maxlen= 250) \n",
        "padded_test = pad_sequences(sequences_test, maxlen=250)"
      ],
      "execution_count": 12,
      "outputs": []
    },
    {
      "cell_type": "code",
      "metadata": {
        "id": "8pLA089HGNVO",
        "colab": {
          "base_uri": "https://localhost:8080/"
        },
        "outputId": "e84fe8c1-5c38-4eb3-e764-8d10dd4e5732"
      },
      "source": [
        "import tensorflow as tf\n",
        "model = tf.keras.Sequential([\n",
        "    tf.keras.layers.Embedding(input_dim=5000, output_dim=16),\n",
        "    tf.keras.layers.LSTM(100),\n",
        "    tf.keras.layers.Dense(128, activation='relu'),\n",
        "    tf.keras.layers.Dense(64, activation='relu'),\n",
        "    tf.keras.layers.Dropout(0.2),\n",
        "    tf.keras.layers.Dense(11, activation='softmax')\n",
        "])\n",
        "\n",
        "model.compile(loss=\"categorical_crossentropy\", optimizer=\"RMSprop\", metrics=[\"accuracy\"])\n",
        "\n",
        "print(model.summary())"
      ],
      "execution_count": 13,
      "outputs": [
        {
          "output_type": "stream",
          "text": [
            "Model: \"sequential\"\n",
            "_________________________________________________________________\n",
            "Layer (type)                 Output Shape              Param #   \n",
            "=================================================================\n",
            "embedding (Embedding)        (None, None, 16)          80000     \n",
            "_________________________________________________________________\n",
            "lstm (LSTM)                  (None, 100)               46800     \n",
            "_________________________________________________________________\n",
            "dense (Dense)                (None, 128)               12928     \n",
            "_________________________________________________________________\n",
            "dense_1 (Dense)              (None, 64)                8256      \n",
            "_________________________________________________________________\n",
            "dropout (Dropout)            (None, 64)                0         \n",
            "_________________________________________________________________\n",
            "dense_2 (Dense)              (None, 11)                715       \n",
            "=================================================================\n",
            "Total params: 148,699\n",
            "Trainable params: 148,699\n",
            "Non-trainable params: 0\n",
            "_________________________________________________________________\n",
            "None\n"
          ],
          "name": "stdout"
        }
      ]
    },
    {
      "cell_type": "code",
      "metadata": {
        "id": "bphpsrB7Gnvi",
        "colab": {
          "base_uri": "https://localhost:8080/"
        },
        "outputId": "df12c5a2-40c0-4cba-cceb-88311acceb25"
      },
      "source": [
        "from keras.callbacks import EarlyStopping\n",
        "epochs = 10\n",
        "batch_size = 64\n",
        "\n",
        "callbacks = [EarlyStopping(monitor='val_loss', patience=4, verbose=1)]\n",
        "history = model.fit(padded_train, label_train, epochs=epochs, batch_size=batch_size,validation_split=0.1, callbacks=[callbacks])"
      ],
      "execution_count": 14,
      "outputs": [
        {
          "output_type": "stream",
          "text": [
            "Epoch 1/10\n",
            "752/752 [==============================] - 45s 16ms/step - loss: 1.6338 - accuracy: 0.3862 - val_loss: 0.9889 - val_accuracy: 0.6909\n",
            "Epoch 2/10\n",
            "752/752 [==============================] - 12s 16ms/step - loss: 0.9511 - accuracy: 0.7135 - val_loss: 0.9226 - val_accuracy: 0.7190\n",
            "Epoch 3/10\n",
            "752/752 [==============================] - 12s 16ms/step - loss: 0.7623 - accuracy: 0.7776 - val_loss: 0.7196 - val_accuracy: 0.7865\n",
            "Epoch 4/10\n",
            "752/752 [==============================] - 11s 15ms/step - loss: 0.6675 - accuracy: 0.8027 - val_loss: 0.6550 - val_accuracy: 0.8109\n",
            "Epoch 5/10\n",
            "752/752 [==============================] - 11s 15ms/step - loss: 0.5968 - accuracy: 0.8270 - val_loss: 0.5759 - val_accuracy: 0.8337\n",
            "Epoch 6/10\n",
            "752/752 [==============================] - 12s 15ms/step - loss: 0.5461 - accuracy: 0.8428 - val_loss: 0.6367 - val_accuracy: 0.8193\n",
            "Epoch 7/10\n",
            "752/752 [==============================] - 11s 14ms/step - loss: 0.5144 - accuracy: 0.8522 - val_loss: 0.5799 - val_accuracy: 0.8370\n",
            "Epoch 8/10\n",
            "752/752 [==============================] - 11s 15ms/step - loss: 0.4792 - accuracy: 0.8619 - val_loss: 0.5847 - val_accuracy: 0.8363\n",
            "Epoch 9/10\n",
            "752/752 [==============================] - 11s 15ms/step - loss: 0.4534 - accuracy: 0.8720 - val_loss: 0.5708 - val_accuracy: 0.8406\n",
            "Epoch 10/10\n",
            "752/752 [==============================] - 11s 15ms/step - loss: 0.4415 - accuracy: 0.8724 - val_loss: 0.6033 - val_accuracy: 0.8399\n"
          ],
          "name": "stdout"
        }
      ]
    },
    {
      "cell_type": "markdown",
      "metadata": {
        "id": "YUofh-0sYPH1"
      },
      "source": [
        "Plot akurasi dan loss"
      ]
    },
    {
      "cell_type": "code",
      "metadata": {
        "id": "1KWbyw4XPaRa",
        "colab": {
          "base_uri": "https://localhost:8080/",
          "height": 281
        },
        "outputId": "f0196045-b037-4c85-8961-8c84ef7973d9"
      },
      "source": [
        "import matplotlib.pyplot as plt\n",
        "import seaborn as sns\n",
        "plt.title('Grafik Akurasi')\n",
        "plt.plot(history.history['accuracy'], label='Train')\n",
        "plt.plot(history.history['val_accuracy'], label='Test')\n",
        "plt.legend()\n",
        "plt.show();"
      ],
      "execution_count": 15,
      "outputs": [
        {
          "output_type": "display_data",
          "data": {
            "image/png": "[encoded data removed]",
            "text/plain": [
              "<Figure size 432x288 with 1 Axes>"
            ]
          },
          "metadata": {
            "tags": [],
            "needs_background": "light"
          }
        }
      ]
    },
    {
      "cell_type": "code",
      "metadata": {
        "id": "7_6XKgzUNqCh",
        "colab": {
          "base_uri": "https://localhost:8080/",
          "height": 281
        },
        "outputId": "baeb35b3-0797-4f93-c508-a666e6120041"
      },
      "source": [
        "plt.title('Grafik Loss')\n",
        "plt.plot(history.history['loss'], label='Train')\n",
        "plt.plot(history.history['val_loss'], label='Test')\n",
        "plt.legend()\n",
        "plt.show();"
      ],
      "execution_count": 16,
      "outputs": [
        {
          "output_type": "display_data",
          "data": {
            "image/png": "[encoded data removed]",
            "text/plain": [
              "<Figure size 432x288 with 1 Axes>"
            ]
          },
          "metadata": {
            "tags": [],
            "needs_background": "light"
          }
        }
      ]
    }
  ]
}